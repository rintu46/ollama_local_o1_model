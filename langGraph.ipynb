{
 "cells": [
  {
   "cell_type": "code",
   "execution_count": null,
   "metadata": {},
   "outputs": [],
   "source": [
    "!pip install langgraph langsmith langchain langchain_groq langchain_community\n",
    "!pip install arxiv wikipedia\n",
    "!pip install --upgrade duckduckgo-search"
   ]
  },
  {
   "cell_type": "code",
   "execution_count": 4,
   "metadata": {},
   "outputs": [],
   "source": [
    "from typing import Annotated\n",
    "from typing_extensions import TypedDict"
   ]
  },
  {
   "cell_type": "code",
   "execution_count": 5,
   "metadata": {},
   "outputs": [],
   "source": [
    "## Working With Tools\n",
    "from langchain_community.utilities import ArxivAPIWrapper, WikipediaAPIWrapper, DuckDuckGoSearchAPIWrapper\n",
    "from langchain_community.tools import ArxivQueryRun, WikipediaQueryRun, DuckDuckGoSearchRun\n",
    "\n",
    "## Arxiv, Wikipedia and DuckDuckGo tools\n",
    "arxiv_wrapper = ArxivAPIWrapper(top_k_results=1, doc_content_chars_max=300)\n",
    "arxiv_tool = ArxivQueryRun(api_wrapper=arxiv_wrapper)\n",
    "\n",
    "api_wrapper = WikipediaAPIWrapper(top_k_results=1, doc_content_chars_max=300)\n",
    "wiki_tool = WikipediaQueryRun(api_wrapper=api_wrapper)\n",
    "\n",
    "ddg_wrapper = DuckDuckGoSearchAPIWrapper()\n",
    "ddg_tool = DuckDuckGoSearchRun(api_wrapper=ddg_wrapper)"
   ]
  },
  {
   "cell_type": "code",
   "execution_count": 6,
   "metadata": {},
   "outputs": [
    {
     "name": "stdout",
     "output_type": "stream",
     "text": [
      "Wikipedia result:\n",
      "Page: London\n",
      "Summary: London is the capital and largest city of both England and the United Kingdom, with a population of 8,866,180 in 2022. The wider metropolitan area is the largest in Western Europe, with a population of 14.9 million. London stands on the River Thames in southeast England, at the\n",
      "\n",
      "DuckDuckGo result:\n",
      "London is the largest and oldest city in the U.K., with a history spanning nearly two millennia. It is also the country's economic, transportation, and cultural center, and a popular tourist destination. The capital of the United Kingdom is London, which is among the world's leading commercial, financial, and cultural centres. Learn more about the history, geography, and culture of the island country that comprises England, Scotland, Wales, and Northern Ireland. London - Capital, Roman, Medieval: Although excavations west of London have revealed the remains of circular huts dating from before 2000 bc, the history of the city begins effectively with the Romans. Beginning their occupation of Britain under Emperor Claudius in ad 43, the Roman armies soon gained control of much of the southeast of Britain. At a point just north of the marshy valley of the ... It's not only the capital city of the United Kingdom, it's also a county that covers a total area of 607 square miles and incorporates 32 boroughs, as well as the City of London - we'll come to that in a second. Presiding over London and its eight and a half million strong population - including the City of London - is the Greater ... is yes. Great Britain is the ninth largest island on Earth and has an area of 80,823 square miles (209,331 square kilometers). England occupies the southeast portion of the island of Great Britain, Wales is in the southwest, and Scotland is in the north. Scotland and Wales are not independent countries but do have some discretion from the ...\n"
     ]
    }
   ],
   "source": [
    "# Using both Wikipedia and DuckDuckGo tools\n",
    "wiki_result = wiki_tool.invoke(\"what is the capital of UK\")\n",
    "ddg_result = ddg_tool.invoke(\"what is the capital of UK\")\n",
    "\n",
    "print(\"Wikipedia result:\")\n",
    "print(wiki_result)\n",
    "print(\"\\nDuckDuckGo result:\") \n",
    "print(ddg_result)"
   ]
  },
  {
   "cell_type": "code",
   "execution_count": 7,
   "metadata": {},
   "outputs": [
    {
     "data": {
      "text/plain": [
       "\"Published: 2024-07-22\\nTitle: Attention Is All You Need But You Don't Need All Of It For Inference of Large Language Models\\nAuthors: Georgy Tyukin, Gbetondji J-S Dovonon, Jean Kaddour, Pasquale Minervini\\nSummary: The inference demand for LLMs has skyrocketed in recent months, and serving\\nmodels with \""
      ]
     },
     "execution_count": 7,
     "metadata": {},
     "output_type": "execute_result"
    }
   ],
   "source": [
    "arxiv_tool.invoke(\"Attention is all you need\")"
   ]
  },
  {
   "cell_type": "code",
   "execution_count": 8,
   "metadata": {},
   "outputs": [],
   "source": [
    "tools=[ddg_tool]"
   ]
  },
  {
   "cell_type": "code",
   "execution_count": 9,
   "metadata": {},
   "outputs": [],
   "source": [
    "## Langgraph Application\n",
    "from langgraph.graph.message import add_messages\n",
    "class State(TypedDict):\n",
    "  messages:Annotated[list,add_messages]"
   ]
  },
  {
   "cell_type": "code",
   "execution_count": 10,
   "metadata": {},
   "outputs": [],
   "source": [
    "from langgraph.graph import StateGraph,START,END"
   ]
  },
  {
   "cell_type": "code",
   "execution_count": 11,
   "metadata": {},
   "outputs": [],
   "source": [
    "graph_builder= StateGraph(State)"
   ]
  },
  {
   "cell_type": "code",
   "execution_count": 12,
   "metadata": {},
   "outputs": [],
   "source": [
    "from langchain_groq import ChatGroq"
   ]
  },
  {
   "cell_type": "code",
   "execution_count": 13,
   "metadata": {},
   "outputs": [],
   "source": [
    "from dotenv import load_dotenv\n",
    "import os\n",
    "\n",
    "load_dotenv()\n",
    "groq_api_key = os.getenv('GROQ_API_KEY')\n"
   ]
  },
  {
   "cell_type": "code",
   "execution_count": 14,
   "metadata": {},
   "outputs": [
    {
     "ename": "GroqError",
     "evalue": "The api_key client option must be set either by passing api_key to the client or by setting the GROQ_API_KEY environment variable",
     "output_type": "error",
     "traceback": [
      "\u001b[0;31m---------------------------------------------------------------------------\u001b[0m",
      "\u001b[0;31mGroqError\u001b[0m                                 Traceback (most recent call last)",
      "Cell \u001b[0;32mIn[14], line 1\u001b[0m\n\u001b[0;32m----> 1\u001b[0m llm\u001b[38;5;241m=\u001b[39m\u001b[43mChatGroq\u001b[49m\u001b[43m(\u001b[49m\u001b[43mgroq_api_key\u001b[49m\u001b[38;5;241;43m=\u001b[39;49m\u001b[43mgroq_api_key\u001b[49m\u001b[43m,\u001b[49m\u001b[43mmodel_name\u001b[49m\u001b[38;5;241;43m=\u001b[39;49m\u001b[38;5;124;43m\"\u001b[39;49m\u001b[38;5;124;43mGemma2-9b-It\u001b[39;49m\u001b[38;5;124;43m\"\u001b[39;49m\u001b[43m)\u001b[49m\n\u001b[1;32m      2\u001b[0m llm\n",
      "File \u001b[0;32m~/anaconda3/envs/ollama/lib/python3.10/site-packages/langchain_core/load/serializable.py:125\u001b[0m, in \u001b[0;36mSerializable.__init__\u001b[0;34m(self, *args, **kwargs)\u001b[0m\n\u001b[1;32m    123\u001b[0m \u001b[38;5;28;01mdef\u001b[39;00m \u001b[38;5;21m__init__\u001b[39m(\u001b[38;5;28mself\u001b[39m, \u001b[38;5;241m*\u001b[39margs: Any, \u001b[38;5;241m*\u001b[39m\u001b[38;5;241m*\u001b[39mkwargs: Any) \u001b[38;5;241m-\u001b[39m\u001b[38;5;241m>\u001b[39m \u001b[38;5;28;01mNone\u001b[39;00m:\n\u001b[1;32m    124\u001b[0m \u001b[38;5;250m    \u001b[39m\u001b[38;5;124;03m\"\"\"\"\"\"\u001b[39;00m\n\u001b[0;32m--> 125\u001b[0m     \u001b[38;5;28;43msuper\u001b[39;49m\u001b[43m(\u001b[49m\u001b[43m)\u001b[49m\u001b[38;5;241;43m.\u001b[39;49m\u001b[38;5;21;43m__init__\u001b[39;49m\u001b[43m(\u001b[49m\u001b[38;5;241;43m*\u001b[39;49m\u001b[43margs\u001b[49m\u001b[43m,\u001b[49m\u001b[43m \u001b[49m\u001b[38;5;241;43m*\u001b[39;49m\u001b[38;5;241;43m*\u001b[39;49m\u001b[43mkwargs\u001b[49m\u001b[43m)\u001b[49m\n",
      "    \u001b[0;31m[... skipping hidden 1 frame]\u001b[0m\n",
      "File \u001b[0;32m~/anaconda3/envs/ollama/lib/python3.10/site-packages/langchain_groq/chat_models.py:404\u001b[0m, in \u001b[0;36mChatGroq.validate_environment\u001b[0;34m(self)\u001b[0m\n\u001b[1;32m    402\u001b[0m sync_specific: Dict[\u001b[38;5;28mstr\u001b[39m, Any] \u001b[38;5;241m=\u001b[39m {\u001b[38;5;124m\"\u001b[39m\u001b[38;5;124mhttp_client\u001b[39m\u001b[38;5;124m\"\u001b[39m: \u001b[38;5;28mself\u001b[39m\u001b[38;5;241m.\u001b[39mhttp_client}\n\u001b[1;32m    403\u001b[0m \u001b[38;5;28;01mif\u001b[39;00m \u001b[38;5;129;01mnot\u001b[39;00m \u001b[38;5;28mself\u001b[39m\u001b[38;5;241m.\u001b[39mclient:\n\u001b[0;32m--> 404\u001b[0m     \u001b[38;5;28mself\u001b[39m\u001b[38;5;241m.\u001b[39mclient \u001b[38;5;241m=\u001b[39m \u001b[43mgroq\u001b[49m\u001b[38;5;241;43m.\u001b[39;49m\u001b[43mGroq\u001b[49m\u001b[43m(\u001b[49m\n\u001b[1;32m    405\u001b[0m \u001b[43m        \u001b[49m\u001b[38;5;241;43m*\u001b[39;49m\u001b[38;5;241;43m*\u001b[39;49m\u001b[43mclient_params\u001b[49m\u001b[43m,\u001b[49m\u001b[43m \u001b[49m\u001b[38;5;241;43m*\u001b[39;49m\u001b[38;5;241;43m*\u001b[39;49m\u001b[43msync_specific\u001b[49m\n\u001b[1;32m    406\u001b[0m \u001b[43m    \u001b[49m\u001b[43m)\u001b[49m\u001b[38;5;241m.\u001b[39mchat\u001b[38;5;241m.\u001b[39mcompletions\n\u001b[1;32m    407\u001b[0m \u001b[38;5;28;01mif\u001b[39;00m \u001b[38;5;129;01mnot\u001b[39;00m \u001b[38;5;28mself\u001b[39m\u001b[38;5;241m.\u001b[39masync_client:\n\u001b[1;32m    408\u001b[0m     async_specific: Dict[\u001b[38;5;28mstr\u001b[39m, Any] \u001b[38;5;241m=\u001b[39m {\u001b[38;5;124m\"\u001b[39m\u001b[38;5;124mhttp_client\u001b[39m\u001b[38;5;124m\"\u001b[39m: \u001b[38;5;28mself\u001b[39m\u001b[38;5;241m.\u001b[39mhttp_async_client}\n",
      "File \u001b[0;32m~/anaconda3/envs/ollama/lib/python3.10/site-packages/groq/_client.py:89\u001b[0m, in \u001b[0;36mGroq.__init__\u001b[0;34m(self, api_key, base_url, timeout, max_retries, default_headers, default_query, http_client, _strict_response_validation)\u001b[0m\n\u001b[1;32m     87\u001b[0m     api_key \u001b[38;5;241m=\u001b[39m os\u001b[38;5;241m.\u001b[39menviron\u001b[38;5;241m.\u001b[39mget(\u001b[38;5;124m\"\u001b[39m\u001b[38;5;124mGROQ_API_KEY\u001b[39m\u001b[38;5;124m\"\u001b[39m)\n\u001b[1;32m     88\u001b[0m \u001b[38;5;28;01mif\u001b[39;00m api_key \u001b[38;5;129;01mis\u001b[39;00m \u001b[38;5;28;01mNone\u001b[39;00m:\n\u001b[0;32m---> 89\u001b[0m     \u001b[38;5;28;01mraise\u001b[39;00m GroqError(\n\u001b[1;32m     90\u001b[0m         \u001b[38;5;124m\"\u001b[39m\u001b[38;5;124mThe api_key client option must be set either by passing api_key to the client or by setting the GROQ_API_KEY environment variable\u001b[39m\u001b[38;5;124m\"\u001b[39m\n\u001b[1;32m     91\u001b[0m     )\n\u001b[1;32m     92\u001b[0m \u001b[38;5;28mself\u001b[39m\u001b[38;5;241m.\u001b[39mapi_key \u001b[38;5;241m=\u001b[39m api_key\n\u001b[1;32m     94\u001b[0m \u001b[38;5;28;01mif\u001b[39;00m base_url \u001b[38;5;129;01mis\u001b[39;00m \u001b[38;5;28;01mNone\u001b[39;00m:\n",
      "\u001b[0;31mGroqError\u001b[0m: The api_key client option must be set either by passing api_key to the client or by setting the GROQ_API_KEY environment variable"
     ]
    }
   ],
   "source": [
    "llm=ChatGroq(groq_api_key=groq_api_key,model_name=\"Gemma2-9b-It\")\n",
    "llm"
   ]
  },
  {
   "cell_type": "code",
   "execution_count": 16,
   "metadata": {},
   "outputs": [],
   "source": [
    "llm_with_tools=llm.bind_tools(tools=tools)"
   ]
  },
  {
   "cell_type": "code",
   "execution_count": 17,
   "metadata": {},
   "outputs": [],
   "source": [
    "llm_with_tools=llm.bind_tools(tools=tools)"
   ]
  },
  {
   "cell_type": "code",
   "execution_count": 18,
   "metadata": {},
   "outputs": [],
   "source": [
    "def chatbot(state:State):\n",
    "  return {\"messages\":[llm_with_tools.invoke(state[\"messages\"])]}"
   ]
  },
  {
   "cell_type": "code",
   "execution_count": 19,
   "metadata": {},
   "outputs": [],
   "source": [
    "from langgraph.prebuilt import ToolNode,tools_condition"
   ]
  },
  {
   "cell_type": "code",
   "execution_count": 20,
   "metadata": {},
   "outputs": [
    {
     "data": {
      "text/plain": [
       "<langgraph.graph.state.StateGraph at 0x70ef3cff9a50>"
      ]
     },
     "execution_count": 20,
     "metadata": {},
     "output_type": "execute_result"
    }
   ],
   "source": [
    "graph_builder.add_node(\"chatbot\",chatbot)\n",
    "tool_node = ToolNode(tools=tools)\n",
    "graph_builder.add_node(\"tools\", tool_node)\n",
    "\n",
    "graph_builder.add_conditional_edges(\n",
    "    \"chatbot\",\n",
    "    tools_condition,\n",
    ")\n",
    "graph_builder.add_edge(\"tools\", \"chatbot\")\n",
    "graph_builder.add_edge(START,\"chatbot\")"
   ]
  },
  {
   "cell_type": "code",
   "execution_count": 21,
   "metadata": {},
   "outputs": [],
   "source": [
    "graph=graph_builder.compile()"
   ]
  },
  {
   "cell_type": "code",
   "execution_count": 37,
   "metadata": {},
   "outputs": [
    {
     "data": {
      "image/jpeg": "[encoded data removed]",
      "text/plain": [
       "<IPython.core.display.Image object>"
      ]
     },
     "metadata": {},
     "output_type": "display_data"
    }
   ],
   "source": [
    "from IPython.display import Image, display\n",
    "\n",
    "try:\n",
    "    display(Image(graph.get_graph().draw_mermaid_png()))\n",
    "except Exception:\n",
    "    # This requires some extra dependencies and is optional\n",
    "    pass"
   ]
  },
  {
   "cell_type": "code",
   "execution_count": 23,
   "metadata": {},
   "outputs": [
    {
     "name": "stdout",
     "output_type": "stream",
     "text": [
      "Available tools:\n",
      "- duckduckgo_search: A wrapper around DuckDuckGo Search. Useful for when you need to answer questions about current events. Input should be a search query.\n"
     ]
    }
   ],
   "source": [
    "# Let's check which tools were used in the previous interactions\n",
    "print(\"Available tools:\")\n",
    "for tool in tools:\n",
    "    print(f\"- {tool.name}: {tool.description}\")\n"
   ]
  },
  {
   "cell_type": "code",
   "execution_count": 22,
   "metadata": {},
   "outputs": [
    {
     "name": "stdout",
     "output_type": "stream",
     "text": [
      "================================\u001b[1m Human Message \u001b[0m=================================\n",
      "\n",
      "Hi there!, Tell me about dhaka city\n",
      "==================================\u001b[1m Ai Message \u001b[0m==================================\n",
      "Tool Calls:\n",
      "  duckduckgo_search (call_68cy)\n",
      " Call ID: call_68cy\n",
      "  Args:\n",
      "    query: dhaka city\n",
      "=================================\u001b[1m Tool Message \u001b[0m=================================\n",
      "Name: duckduckgo_search\n",
      "\n",
      "Dhaka is the capital of Bangladesh and one of the largest metropolises in South Asia. Learn about its history, culture, economy, and attractions from Britannica's editors and articles. Discover the wild and vibrant city of Dhaka, the capital of Bangladesh, with this ultimate travel guide. Learn about its history, culture, and best places to visit, from Old Dhaka to Lalbagh Fort, and more. Dhaka is the bustling capital of Bangladesh and one of the most densely populated cities in the world. If you plan on travelling to Bangladesh and visiting this unique city, this post is for you. It includes the best places to visit in Dhaka. While Dhaka is quite an unusual travel destination, this city has much to offer to the right type of ... Dhaka, the bustling capital city of Bangladesh, is a vibrant metropolis known for its rich history, diverse culture, and chaotic charm.For those pondering things to do in Dhaka, exploring the Lalbagh Fort, a 17th-century Mughal fortress, and visiting the Jatiyo Sangsad Bhaban, the National Parliament House designed by the renowned architect Louis Kahn, are top activities. In north-central Bangladesh, east of the Jamuna floodplains, is the Madhupur Tract. It consists of an elevated plateau on which hillocks ranging in height from 30 to 60 feet (9 to 18 metres) give contour to cultivated valleys. The Madhupur Tract contains sal trees, whose hardwood is comparable in value and utility to teak. East of the Madhupur Tract, in northeastern Bangladesh, is a region ...\n",
      "==================================\u001b[1m Ai Message \u001b[0m==================================\n",
      "\n",
      "Dhaka is the capital of Bangladesh and one of the largest metropolises in South Asia.\n"
     ]
    }
   ],
   "source": [
    "user_input=\"Hi there!, Tell me about dhaka city\"\n",
    "\n",
    "events=graph.stream(\n",
    "     {\"messages\": [(\"user\", user_input)]},stream_mode=\"values\"\n",
    ")\n",
    "\n",
    "for event in events:\n",
    "  event[\"messages\"][-1].pretty_print()"
   ]
  },
  {
   "cell_type": "code",
   "execution_count": 24,
   "metadata": {},
   "outputs": [
    {
     "name": "stdout",
     "output_type": "stream",
     "text": [
      "================================\u001b[1m Human Message \u001b[0m=================================\n",
      "\n",
      "what is the price of apple 16 pro in dhaka?.\n",
      "==================================\u001b[1m Ai Message \u001b[0m==================================\n",
      "Tool Calls:\n",
      "  duckduckgo_search (call_1xcf)\n",
      " Call ID: call_1xcf\n",
      "  Args:\n",
      "    query: price of apple 16 pro in Dhaka\n",
      "=================================\u001b[1m Tool Message \u001b[0m=================================\n",
      "Name: duckduckgo_search\n",
      "\n",
      "iPhone 16 Pro. ৳ 153,000 - ৳ 179,000. or Buy Now @ ৳ 13,834 per month for 12 months on EMI*. Apple iPhone 16 pro price starts from ৳ 153,000 in Bangladesh. It has a bigger display 6.3-inch than previous iPhone 15 pro model. Powered by new A18 Pro processor and features new Apple intelligence AI features. Now, the Apple iPhone 16 Pro's price is 198000 taka in Bangladesh. The iPhone 16 Pro has a Li-Ion, 4800 mAh non-removable battery with (Wired, PD2.0, 50% in 30 min (advertised); 25W wireless (MagSafe); 15W wireless (Qi2); 4.5W reverse wired) charging. This device is running on the iOS 18 and is powered by the Apple A18 Pro (3 nm) chipset. iPhone 16 price in Dhaka may vary slightly from other regions. For those looking for flexibility, we'll offer iPhone 16 installment price in BD options. Design and Display. Rumors suggest larger displays for the Pro models: iPhone 16 Pro: 6.3 inches; iPhone 16 Pro Max: 6.9 inches; Standard iPhone 16 and 16 Plus are likely to maintain current ... Apple iPhone 16 Pro review: Price and availability. Starts at $999 / £999 / AU$1,849; Pre-orders open now, and the phone ships from September 20 (Image credit: Future / Lance Ulanoff) For most users, the iPhone 16 offers the best value. You get great screens, impressive cameras, and solid battery life. New additions like fresh colours, the Action button (borrowed from last year's Pro), and a new Camera Control button add to its appeal. If you are coming from 11 Gen or later, iPhone 16 is a safe bet.\n",
      "==================================\u001b[1m Ai Message \u001b[0m==================================\n",
      "\n",
      "The price of the Apple iPhone 16 Pro in Dhaka is ৳ 153,000 - ৳ 179,000.\n"
     ]
    }
   ],
   "source": [
    "user_input = \"what is the price of apple 16 pro in dhaka?.\"\n",
    "\n",
    "# The config is the **second positional argument** to stream() or invoke()!\n",
    "events = graph.stream(\n",
    "    {\"messages\": [(\"user\", user_input)]},stream_mode=\"values\"\n",
    ")\n",
    "for event in events:\n",
    "    event[\"messages\"][-1].pretty_print()"
   ]
  },
  {
   "cell_type": "code",
   "execution_count": null,
   "metadata": {},
   "outputs": [],
   "source": []
  },
  {
   "cell_type": "code",
   "execution_count": null,
   "metadata": {},
   "outputs": [],
   "source": []
  }
 ],
 "metadata": {
  "kernelspec": {
   "display_name": "ollama",
   "language": "python",
   "name": "python3"
  },
  "language_info": {
   "codemirror_mode": {
    "name": "ipython",
    "version": 3
   },
   "file_extension": ".py",
   "mimetype": "text/x-python",
   "name": "python",
   "nbconvert_exporter": "python",
   "pygments_lexer": "ipython3",
   "version": "3.10.15"
  }
 },
 "nbformat": 4,
 "nbformat_minor": 2
}
