{
 "cells": [
  {
   "cell_type": "code",
   "execution_count": null,
   "metadata": {},
   "outputs": [],
   "source": [
    "!pip install langgraph langsmith langchain langchain_groq langchain_community\n",
    "!pip install arxiv wikipedia\n",
    "!pip install --upgrade duckduckgo-search"
   ]
  },
  {
   "cell_type": "code",
   "execution_count": 7,
   "metadata": {},
   "outputs": [],
   "source": [
    "from typing import Annotated\n",
    "from typing_extensions import TypedDict"
   ]
  },
  {
   "cell_type": "code",
   "execution_count": 8,
   "metadata": {},
   "outputs": [],
   "source": [
    "## Working With Tools\n",
    "from langchain_community.utilities import ArxivAPIWrapper, WikipediaAPIWrapper, DuckDuckGoSearchAPIWrapper\n",
    "from langchain_community.tools import ArxivQueryRun, WikipediaQueryRun, DuckDuckGoSearchRun\n",
    "\n",
    "## Arxiv, Wikipedia and DuckDuckGo tools\n",
    "arxiv_wrapper = ArxivAPIWrapper(top_k_results=1, doc_content_chars_max=300)\n",
    "arxiv_tool = ArxivQueryRun(api_wrapper=arxiv_wrapper)\n",
    "\n",
    "api_wrapper = WikipediaAPIWrapper(top_k_results=1, doc_content_chars_max=300)\n",
    "wiki_tool = WikipediaQueryRun(api_wrapper=api_wrapper)\n",
    "\n",
    "ddg_wrapper = DuckDuckGoSearchAPIWrapper()\n",
    "ddg_tool = DuckDuckGoSearchRun(api_wrapper=ddg_wrapper)"
   ]
  },
  {
   "cell_type": "code",
   "execution_count": 9,
   "metadata": {},
   "outputs": [
    {
     "name": "stdout",
     "output_type": "stream",
     "text": [
      "Wikipedia result:\n",
      "Page: Shah Rukh Khan\n",
      "Summary: Shah Rukh Khan (pronounced [ˈʃɑːɦɾʊx xɑːn] ; born 2 November 1965), also known by the initialism SRK, is an Indian actor and film producer who works in Hindi cinema. Referred to in the media as the \"Baadshah of Bollywood\" and \"King Khan\", he has appeared in more than 10\n",
      "\n",
      "DuckDuckGo result:\n",
      "Shah Rukh Khan's family includes his parents, Taj Mohammad Khan and Lateef Fatima, wife Gauri Khan, children Aryan, Suhana, and Abram, and his siblings Shehnaz Lalarukh Khan. Each member of Shah Rukh Khan's family has played a unique role in his life and career, and together they form the foundation of the man we know today. Shah Rukh Khan is the most versatile of today's Bollywood action heroes, but nothing captures the complexity of SRK's stardom like his mid-career role in 'Om Shanti Om.' Shah Rukh Khan is a celebrated Indian hero whose home entrance gets crowded by hundreds of people on his birthday every year. People wait in anticipation to get just one glance at the superstar and the humble person that he is, Shah Rukh comes to the balcony and waves at his beloved fans. Despite the rough patches in his career, King Khan ... Shah Rukh Khan, sometimes dubbed as the \"King of Bollywood,\" is a true cinematic legend whose charm, talent, and infectious energy have won the hearts of millions around the globe. Throughout his ... Actor Shah Rukh Khan was admitted to a hospital in Ahmedabad on Wednesday after suffering a heatstroke, and in a recent statement, Juhi Chawla shared updates about his health. Shah Rukh, who was in the city to support his Indian Premier League team Kolkata Knight Riders, was admitted to the city's multi-specialty KD Hospital.\n"
     ]
    }
   ],
   "source": [
    "# Using both Wikipedia and DuckDuckGo tools\n",
    "wiki_result = wiki_tool.invoke(\"who is Sharukh Khan\")\n",
    "ddg_result = ddg_tool.invoke(\"who is Sharukh Khan\")\n",
    "\n",
    "print(\"Wikipedia result:\")\n",
    "print(wiki_result)\n",
    "print(\"\\nDuckDuckGo result:\") \n",
    "print(ddg_result)"
   ]
  },
  {
   "cell_type": "code",
   "execution_count": 22,
   "metadata": {},
   "outputs": [
    {
     "data": {
      "text/plain": [
       "\"Published: 2024-07-22\\nTitle: Attention Is All You Need But You Don't Need All Of It For Inference of Large Language Models\\nAuthors: Georgy Tyukin, Gbetondji J-S Dovonon, Jean Kaddour, Pasquale Minervini\\nSummary: The inference demand for LLMs has skyrocketed in recent months, and serving\\nmodels with \""
      ]
     },
     "execution_count": 22,
     "metadata": {},
     "output_type": "execute_result"
    }
   ],
   "source": [
    "arxiv_tool.invoke(\"Attention is all you need\")"
   ]
  },
  {
   "cell_type": "code",
   "execution_count": 5,
   "metadata": {},
   "outputs": [],
   "source": [
    "tools=[ddg_tool]"
   ]
  },
  {
   "cell_type": "code",
   "execution_count": 10,
   "metadata": {},
   "outputs": [],
   "source": [
    "## Langgraph Application\n",
    "from langgraph.graph.message import add_messages\n",
    "class State(TypedDict):\n",
    "  messages:Annotated[list,add_messages]"
   ]
  },
  {
   "cell_type": "code",
   "execution_count": 11,
   "metadata": {},
   "outputs": [],
   "source": [
    "from langgraph.graph import StateGraph,START,END"
   ]
  },
  {
   "cell_type": "code",
   "execution_count": 12,
   "metadata": {},
   "outputs": [],
   "source": [
    "graph_builder= StateGraph(State)"
   ]
  },
  {
   "cell_type": "code",
   "execution_count": 13,
   "metadata": {},
   "outputs": [],
   "source": [
    "from langchain_groq import ChatGroq"
   ]
  },
  {
   "cell_type": "code",
   "execution_count": 5,
   "metadata": {},
   "outputs": [
    {
     "name": "stdout",
     "output_type": "stream",
     "text": [
      "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\n"
     ]
    }
   ],
   "source": [
    "from dotenv import load_dotenv\n",
    "import os\n",
    "\n",
    "load_dotenv()\n",
    "groq_api_key = os.getenv('GROQ_API_KEY')\n"
   ]
  },
  {
   "cell_type": "code",
   "execution_count": 15,
   "metadata": {},
   "outputs": [
    {
     "data": {
      "text/plain": [
       "ChatGroq(client=<groq.resources.chat.completions.Completions object at 0x70ef3cf68a60>, async_client=<groq.resources.chat.completions.AsyncCompletions object at 0x70ef3cf47010>, model_name='Gemma2-9b-It', model_kwargs={}, groq_api_key=SecretStr('**********'))"
      ]
     },
     "execution_count": 15,
     "metadata": {},
     "output_type": "execute_result"
    }
   ],
   "source": [
    "llm=ChatGroq(groq_api_key=groq_api_key,model_name=\"Gemma2-9b-It\")\n",
    "llm"
   ]
  },
  {
   "cell_type": "code",
   "execution_count": 16,
   "metadata": {},
   "outputs": [],
   "source": [
    "llm_with_tools=llm.bind_tools(tools=tools)"
   ]
  },
  {
   "cell_type": "code",
   "execution_count": 17,
   "metadata": {},
   "outputs": [],
   "source": [
    "llm_with_tools=llm.bind_tools(tools=tools)"
   ]
  },
  {
   "cell_type": "code",
   "execution_count": 18,
   "metadata": {},
   "outputs": [],
   "source": [
    "def chatbot(state:State):\n",
    "  return {\"messages\":[llm_with_tools.invoke(state[\"messages\"])]}"
   ]
  },
  {
   "cell_type": "code",
   "execution_count": 19,
   "metadata": {},
   "outputs": [],
   "source": [
    "from langgraph.prebuilt import ToolNode,tools_condition"
   ]
  },
  {
   "cell_type": "code",
   "execution_count": 20,
   "metadata": {},
   "outputs": [
    {
     "data": {
      "text/plain": [
       "<langgraph.graph.state.StateGraph at 0x70ef3cff9a50>"
      ]
     },
     "execution_count": 20,
     "metadata": {},
     "output_type": "execute_result"
    }
   ],
   "source": [
    "graph_builder.add_node(\"chatbot\",chatbot)\n",
    "tool_node = ToolNode(tools=tools)\n",
    "graph_builder.add_node(\"tools\", tool_node)\n",
    "\n",
    "graph_builder.add_conditional_edges(\n",
    "    \"chatbot\",\n",
    "    tools_condition,\n",
    ")\n",
    "graph_builder.add_edge(\"tools\", \"chatbot\")\n",
    "graph_builder.add_edge(START,\"chatbot\")"
   ]
  },
  {
   "cell_type": "code",
   "execution_count": 21,
   "metadata": {},
   "outputs": [],
   "source": [
    "graph=graph_builder.compile()"
   ]
  },
  {
   "cell_type": "code",
   "execution_count": 37,
   "metadata": {},
   "outputs": [
    {
     "data": {
      "image/jpeg": "[encoded data removed]",
      "text/plain": [
       "<IPython.core.display.Image object>"
      ]
     },
     "metadata": {},
     "output_type": "display_data"
    }
   ],
   "source": [
    "from IPython.display import Image, display\n",
    "\n",
    "try:\n",
    "    display(Image(graph.get_graph().draw_mermaid_png()))\n",
    "except Exception:\n",
    "    # This requires some extra dependencies and is optional\n",
    "    pass"
   ]
  },
  {
   "cell_type": "code",
   "execution_count": 23,
   "metadata": {},
   "outputs": [
    {
     "name": "stdout",
     "output_type": "stream",
     "text": [
      "Available tools:\n",
      "- duckduckgo_search: A wrapper around DuckDuckGo Search. Useful for when you need to answer questions about current events. Input should be a search query.\n"
     ]
    }
   ],
   "source": [
    "# Let's check which tools were used in the previous interactions\n",
    "print(\"Available tools:\")\n",
    "for tool in tools:\n",
    "    print(f\"- {tool.name}: {tool.description}\")\n"
   ]
  },
  {
   "cell_type": "code",
   "execution_count": 22,
   "metadata": {},
   "outputs": [
    {
     "name": "stdout",
     "output_type": "stream",
     "text": [
      "================================\u001b[1m Human Message \u001b[0m=================================\n",
      "\n",
      "Hi there!, Tell me about dhaka city\n",
      "==================================\u001b[1m Ai Message \u001b[0m==================================\n",
      "Tool Calls:\n",
      "  duckduckgo_search (call_68cy)\n",
      " Call ID: call_68cy\n",
      "  Args:\n",
      "    query: dhaka city\n",
      "=================================\u001b[1m Tool Message \u001b[0m=================================\n",
      "Name: duckduckgo_search\n",
      "\n",
      "Dhaka is the capital of Bangladesh and one of the largest metropolises in South Asia. Learn about its history, culture, economy, and attractions from Britannica's editors and articles. Discover the wild and vibrant city of Dhaka, the capital of Bangladesh, with this ultimate travel guide. Learn about its history, culture, and best places to visit, from Old Dhaka to Lalbagh Fort, and more. Dhaka is the bustling capital of Bangladesh and one of the most densely populated cities in the world. If you plan on travelling to Bangladesh and visiting this unique city, this post is for you. It includes the best places to visit in Dhaka. While Dhaka is quite an unusual travel destination, this city has much to offer to the right type of ... Dhaka, the bustling capital city of Bangladesh, is a vibrant metropolis known for its rich history, diverse culture, and chaotic charm.For those pondering things to do in Dhaka, exploring the Lalbagh Fort, a 17th-century Mughal fortress, and visiting the Jatiyo Sangsad Bhaban, the National Parliament House designed by the renowned architect Louis Kahn, are top activities. In north-central Bangladesh, east of the Jamuna floodplains, is the Madhupur Tract. It consists of an elevated plateau on which hillocks ranging in height from 30 to 60 feet (9 to 18 metres) give contour to cultivated valleys. The Madhupur Tract contains sal trees, whose hardwood is comparable in value and utility to teak. East of the Madhupur Tract, in northeastern Bangladesh, is a region ...\n",
      "==================================\u001b[1m Ai Message \u001b[0m==================================\n",
      "\n",
      "Dhaka is the capital of Bangladesh and one of the largest metropolises in South Asia.\n"
     ]
    }
   ],
   "source": [
    "user_input=\"Hi there!, Tell me about dhaka city\"\n",
    "\n",
    "events=graph.stream(\n",
    "     {\"messages\": [(\"user\", user_input)]},stream_mode=\"values\"\n",
    ")\n",
    "\n",
    "for event in events:\n",
    "  event[\"messages\"][-1].pretty_print()"
   ]
  },
  {
   "cell_type": "code",
   "execution_count": 24,
   "metadata": {},
   "outputs": [
    {
     "name": "stdout",
     "output_type": "stream",
     "text": [
      "================================\u001b[1m Human Message \u001b[0m=================================\n",
      "\n",
      "what is the price of apple 16 pro in dhaka?.\n",
      "==================================\u001b[1m Ai Message \u001b[0m==================================\n",
      "Tool Calls:\n",
      "  duckduckgo_search (call_1xcf)\n",
      " Call ID: call_1xcf\n",
      "  Args:\n",
      "    query: price of apple 16 pro in Dhaka\n",
      "=================================\u001b[1m Tool Message \u001b[0m=================================\n",
      "Name: duckduckgo_search\n",
      "\n",
      "iPhone 16 Pro. ৳ 153,000 - ৳ 179,000. or Buy Now @ ৳ 13,834 per month for 12 months on EMI*. Apple iPhone 16 pro price starts from ৳ 153,000 in Bangladesh. It has a bigger display 6.3-inch than previous iPhone 15 pro model. Powered by new A18 Pro processor and features new Apple intelligence AI features. Now, the Apple iPhone 16 Pro's price is 198000 taka in Bangladesh. The iPhone 16 Pro has a Li-Ion, 4800 mAh non-removable battery with (Wired, PD2.0, 50% in 30 min (advertised); 25W wireless (MagSafe); 15W wireless (Qi2); 4.5W reverse wired) charging. This device is running on the iOS 18 and is powered by the Apple A18 Pro (3 nm) chipset. iPhone 16 price in Dhaka may vary slightly from other regions. For those looking for flexibility, we'll offer iPhone 16 installment price in BD options. Design and Display. Rumors suggest larger displays for the Pro models: iPhone 16 Pro: 6.3 inches; iPhone 16 Pro Max: 6.9 inches; Standard iPhone 16 and 16 Plus are likely to maintain current ... Apple iPhone 16 Pro review: Price and availability. Starts at $999 / £999 / AU$1,849; Pre-orders open now, and the phone ships from September 20 (Image credit: Future / Lance Ulanoff) For most users, the iPhone 16 offers the best value. You get great screens, impressive cameras, and solid battery life. New additions like fresh colours, the Action button (borrowed from last year's Pro), and a new Camera Control button add to its appeal. If you are coming from 11 Gen or later, iPhone 16 is a safe bet.\n",
      "==================================\u001b[1m Ai Message \u001b[0m==================================\n",
      "\n",
      "The price of the Apple iPhone 16 Pro in Dhaka is ৳ 153,000 - ৳ 179,000.\n"
     ]
    }
   ],
   "source": [
    "user_input = \"what is the price of apple 16 pro in dhaka?.\"\n",
    "\n",
    "# The config is the **second positional argument** to stream() or invoke()!\n",
    "events = graph.stream(\n",
    "    {\"messages\": [(\"user\", user_input)]},stream_mode=\"values\"\n",
    ")\n",
    "for event in events:\n",
    "    event[\"messages\"][-1].pretty_print()"
   ]
  },
  {
   "cell_type": "code",
   "execution_count": null,
   "metadata": {},
   "outputs": [],
   "source": []
  },
  {
   "cell_type": "code",
   "execution_count": null,
   "metadata": {},
   "outputs": [],
   "source": []
  }
 ],
 "metadata": {
  "kernelspec": {
   "display_name": "ollama",
   "language": "python",
   "name": "python3"
  },
  "language_info": {
   "codemirror_mode": {
    "name": "ipython",
    "version": 3
   },
   "file_extension": ".py",
   "mimetype": "text/x-python",
   "name": "python",
   "nbconvert_exporter": "python",
   "pygments_lexer": "ipython3",
   "version": "3.10.15"
  }
 },
 "nbformat": 4,
 "nbformat_minor": 2
}
